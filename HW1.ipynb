{
  "nbformat": 4,
  "nbformat_minor": 0,
  "metadata": {
    "colab": {
      "provenance": [],
      "authorship_tag": "ABX9TyMDjZUZ1XnfQC+vdSVgFA2u",
      "include_colab_link": true
    },
    "kernelspec": {
      "name": "python3",
      "display_name": "Python 3"
    },
    "language_info": {
      "name": "python"
    }
  },
  "cells": [
    {
      "cell_type": "markdown",
      "metadata": {
        "id": "view-in-github",
        "colab_type": "text"
      },
      "source": [
        "<a href=\"https://colab.research.google.com/github/DaryaNovosadova/Python_for_analysts/blob/main/HW1.ipynb\" target=\"_parent\"><img src=\"https://colab.research.google.com/assets/colab-badge.svg\" alt=\"Open In Colab\"/></a>"
      ]
    },
    {
      "cell_type": "markdown",
      "source": [
        "##Задача 2\n",
        "**На складе лежат разные фрукты в разном количестве.\n",
        "Нужно написать функцию, которая на вход принимает любое количество названий фруктов и их количество, а возвращает общее количество фруктов на складе.**\n",
        "\n",
        "В первом варианте у нас уже есть список фруктов, который мы выводим и общее кол-во фруктов.\n",
        "\n",
        "Во вротом сообщаем фрукты и их кол-во и выводим их общее кол-во."
      ],
      "metadata": {
        "id": "S1DanhKPl7gb"
      }
    },
    {
      "cell_type": "code",
      "source": [
        "fruits = {'apples' : 10, 'pears' : 7, 'bananas' : 3}\n",
        "\n",
        "def SumFruits(fruits):\n",
        "    TotalFruits = sum(fruits.values())\n",
        "    return f'Total fruits: {TotalFruits}'\n",
        "\n",
        "print(fruits)\n",
        "print(SumFruits(fruits))"
      ],
      "metadata": {
        "colab": {
          "base_uri": "https://localhost:8080/"
        },
        "id": "ATQBPtTBb0z6",
        "outputId": "d22f1533-d6e6-4a8b-b647-f85eaed26312"
      },
      "execution_count": 17,
      "outputs": [
        {
          "output_type": "stream",
          "name": "stdout",
          "text": [
            "{'apples': 10, 'pears': 7, 'bananas': 3}\n",
            "Total fruits: 20\n"
          ]
        }
      ]
    },
    {
      "cell_type": "code",
      "source": [
        "def SumFruits(**kwargs):\n",
        "    TotalFruits = sum(kwargs.values())\n",
        "    return f'Total fruits: {TotalFruits}'\n",
        "\n",
        "print(SumFruits(apples = 10, pears = 7, bananas = 3))"
      ],
      "metadata": {
        "colab": {
          "base_uri": "https://localhost:8080/"
        },
        "id": "ayeh3MNjbA2B",
        "outputId": "d04899df-630d-4370-e551-cdff9c1fea11"
      },
      "execution_count": 21,
      "outputs": [
        {
          "output_type": "stream",
          "name": "stdout",
          "text": [
            "Total fruits: 20\n"
          ]
        }
      ]
    },
    {
      "cell_type": "markdown",
      "source": [
        "##Задача 3\n",
        "**Дан список с затратами на рекламу. Но в данных есть ошибки, некоторые затраты имеют отрицательную величину. Удалите такие значения из списка и посчитайте суммарные затраты\n",
        "[100, 125, -90, 345, 655, -1, 0, 200]**\n",
        "\n",
        "*Используйте list comprehensions*"
      ],
      "metadata": {
        "id": "kD2df-Qtogph"
      }
    },
    {
      "cell_type": "code",
      "source": [
        "Expenses= [100, 125, -90, 345, 655, -1, 0, 200]\n",
        "TotalCosts = [i if i > 0 else 0 for i in Expenses]\n",
        "\n",
        "print(f'Total costs: {TotalCosts}')\n",
        "print(f'Cost amount: {sum([i for i in TotalCosts])}')"
      ],
      "metadata": {
        "colab": {
          "base_uri": "https://localhost:8080/"
        },
        "id": "ZbH82ZBdpAfE",
        "outputId": "9e7123d6-11df-440d-f058-d93f1886b455"
      },
      "execution_count": 31,
      "outputs": [
        {
          "output_type": "stream",
          "name": "stdout",
          "text": [
            "Total costs: [100, 125, 0, 345, 655, 0, 0, 200]\n",
            "Cost amount: 1425\n"
          ]
        }
      ]
    },
    {
      "cell_type": "markdown",
      "source": [
        "##Задача 4\n",
        "**Даны два списка.**\n",
        "\n",
        "**Дата покупки**\n",
        "['2021-09-14', '2021-12-15', '2021-09-08', '2021-12-05', '2021-10-09', '2021-09-30', '2021-12-22', '2021-11-29', '2021-12-24', '2021-11-26', '2021-10-27', '2021-12-18', '2021-11-09', '2021-11-23', '2021-09-27', '2021-10-02', '2021-12-27', '2021-09-20', '2021-12-13', '2021-11-01', '2021-11-09', '2021-12-06', '2021-12-08', '2021-10-09', '2021-10-31', '2021-09-30', '2021-11-09', '2021-12-13', '2021-10-26', '2021-12-09']\n",
        "\n",
        "**Суммы покупок по датам**\n",
        "[1270, 8413, 9028, 3703, 5739, 4095, 295, 4944, 5723, 3701, 4471, 651, 7037, 4274, 6275, 4988, 6930, 2971, 6592, 2004, 2822, 519, 3406, 2732, 5015, 2008, 316, 6333, 5700, 2887]"
      ],
      "metadata": {
        "id": "5AvmC42auJv1"
      }
    },
    {
      "cell_type": "code",
      "source": [
        "date = ['2021-09-14', '2021-12-15', '2021-09-08', '2021-12-05', '2021-10-09', \n",
        "        '2021-09-30', '2021-12-22', '2021-11-29', '2021-12-24', '2021-11-26', \n",
        "        '2021-10-27', '2021-12-18', '2021-11-09', '2021-11-23', '2021-09-27', \n",
        "        '2021-10-02', '2021-12-27', '2021-09-20', '2021-12-13', '2021-11-01', \n",
        "        '2021-11-09', '2021-12-06', '2021-12-08', '2021-10-09', '2021-10-31', \n",
        "        '2021-09-30', '2021-11-09', '2021-12-13', '2021-10-26', '2021-12-09']\n",
        "        \n",
        "purchaseAmount = [1270, 8413, 9028, 3703, 5739, \n",
        "                  4095, 295, 4944, 5723, 3701, \n",
        "                  4471, 651, 7037, 4274, 6275, \n",
        "                  4988, 6930, 2971, 6592, 2004, \n",
        "                  2822, 519, 3406, 2732, 5015, \n",
        "                  2008, 316, 6333, 5700, 2887]"
      ],
      "metadata": {
        "id": "cutDcyw_vF7Z"
      },
      "execution_count": 32,
      "outputs": []
    },
    {
      "cell_type": "markdown",
      "source": [
        "###Задача 4.1\n",
        "\n",
        "**Найдите, какая выручка у компании в ноябре**\n",
        "\n",
        "*Используйте list comprehensions*"
      ],
      "metadata": {
        "id": "6rD_OtcMu6oT"
      }
    },
    {
      "cell_type": "code",
      "source": [
        "def ProfitNovember(data1: list, data2: list) -> list:\n",
        "    profitNov = []\n",
        "    for i in range(len(data1)):\n",
        "        if '-11-' in data1[i]:\n",
        "            profitNov.append(data2[i])\n",
        "    return profitNov\n",
        "\n",
        "print(f'Profit november: {ProfitNovember(date, purchaseAmount)}')\n",
        "print(f'Amount of profit: {sum(ProfitNovember(date, purchaseAmount))}')"
      ],
      "metadata": {
        "colab": {
          "base_uri": "https://localhost:8080/"
        },
        "id": "W1CIuTUAvpma",
        "outputId": "0605204c-2be8-4f52-b312-9f0f11f241ff"
      },
      "execution_count": 37,
      "outputs": [
        {
          "output_type": "stream",
          "name": "stdout",
          "text": [
            "Profit november: [4944, 3701, 7037, 4274, 2004, 2822, 316]\n",
            "Amount of profit: 25098\n"
          ]
        }
      ]
    },
    {
      "cell_type": "markdown",
      "source": [
        "###Задача 4.2\n",
        "\n",
        "**Найдите выручку компании в зависимости от месяца.**\n",
        "\n",
        "Для этого напишите функцию, которая на вход принимает список с датами и список с выручкой, а на выходе словарь, где ключи - это месяцы, а значения - это выручка.\n",
        "\n",
        "*Используйте аннотирование типов.*"
      ],
      "metadata": {
        "id": "51PF8ufzzcvw"
      }
    },
    {
      "cell_type": "code",
      "source": [
        "def ProfitsMonths(data1: list, data2: list) -> dict:\n",
        "    profit = {}\n",
        "    for i in range(len(data1)): \n",
        "        if date[i].split('-')[1] in profit.keys():\n",
        "            profit[date[i].split('-')[1]] += purchaseAmount[i]\n",
        "        else:\n",
        "            profit[date[i].split('-')[1]] = purchaseAmount[i]          \n",
        "    return profit\n",
        "\n",
        "print(f'arrive by months: {ProfitsMonths(date, purchaseAmount)}')"
      ],
      "metadata": {
        "colab": {
          "base_uri": "https://localhost:8080/"
        },
        "id": "EGs1rJ1Czz_f",
        "outputId": "abff99d3-9e32-4f29-e9d2-1c706579a9c1"
      },
      "execution_count": 43,
      "outputs": [
        {
          "output_type": "stream",
          "name": "stdout",
          "text": [
            "arrive by months: {'09': 25647, '12': 45452, '10': 28645, '11': 25098}\n"
          ]
        }
      ]
    }
  ]
}